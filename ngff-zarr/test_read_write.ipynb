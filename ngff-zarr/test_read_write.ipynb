{
 "cells": [
  {
   "cell_type": "markdown",
   "metadata": {},
   "source": [
    "Copied from [here](https://github.com/embl-cba/ome-zarr-image-analysis-nextflow/blob/main/playground/ngff-zarr/try-ngff-zarr.py) (thanks Christian)"
   ]
  },
  {
   "cell_type": "code",
   "execution_count": 2,
   "metadata": {},
   "outputs": [],
   "source": [
    "import ngff_zarr"
   ]
  },
  {
   "cell_type": "code",
   "execution_count": 3,
   "metadata": {},
   "outputs": [],
   "source": [
    "data_path = \"../example-zarr\"\n",
    "file_path = f\"{data_path}/13457539.zarr\""
   ]
  },
  {
   "cell_type": "code",
   "execution_count": 5,
   "metadata": {},
   "outputs": [],
   "source": [
    "# open\n",
    "input_multiscales = ngff_zarr.from_ngff_zarr(file_path)"
   ]
  },
  {
   "cell_type": "code",
   "execution_count": 6,
   "metadata": {},
   "outputs": [],
   "source": [
    "# inspect one resolution\n",
    "num_resolutions = len(input_multiscales.images)\n",
    "image = input_multiscales.images[0]\n",
    "\n",
    "data = image.data\n",
    "scale = image.scale\n",
    "translation = image.translation\n",
    "units = image.axes_units"
   ]
  },
  {
   "cell_type": "code",
   "execution_count": 13,
   "metadata": {},
   "outputs": [
    {
     "data": {
      "text/plain": [
       "'num_resolutions'"
      ]
     },
     "metadata": {},
     "output_type": "display_data"
    },
    {
     "data": {
      "text/plain": [
       "2"
      ]
     },
     "metadata": {},
     "output_type": "display_data"
    },
    {
     "data": {
      "text/plain": [
       "'image'"
      ]
     },
     "metadata": {},
     "output_type": "display_data"
    },
    {
     "data": {
      "text/plain": [
       "NgffImage(data=dask.array<from-zarr, shape=(18, 6, 11, 189, 190), dtype=uint16, chunksize=(1, 1, 1, 189, 190), chunktype=numpy.ndarray>, dims=['t', 'c', 'z', 'y', 'x'], scale={'t': 1, 'c': 1, 'z': 1, 'y': 1, 'x': 1}, translation={'t': 0.0, 'c': 0.0, 'z': 0.0, 'y': 0.0, 'x': 0.0}, name='image', axes_units={'t': None, 'c': None, 'z': 'micrometer', 'y': 'micrometer', 'x': 'micrometer'})"
      ]
     },
     "metadata": {},
     "output_type": "display_data"
    },
    {
     "data": {
      "text/plain": [
       "'data'"
      ]
     },
     "metadata": {},
     "output_type": "display_data"
    },
    {
     "data": {
      "text/html": [
       "<table>\n",
       "    <tr>\n",
       "        <td>\n",
       "            <table style=\"border-collapse: collapse;\">\n",
       "                <thead>\n",
       "                    <tr>\n",
       "                        <td> </td>\n",
       "                        <th> Array </th>\n",
       "                        <th> Chunk </th>\n",
       "                    </tr>\n",
       "                </thead>\n",
       "                <tbody>\n",
       "                    \n",
       "                    <tr>\n",
       "                        <th> Bytes </th>\n",
       "                        <td> 81.37 MiB </td>\n",
       "                        <td> 70.14 kiB </td>\n",
       "                    </tr>\n",
       "                    \n",
       "                    <tr>\n",
       "                        <th> Shape </th>\n",
       "                        <td> (18, 6, 11, 189, 190) </td>\n",
       "                        <td> (1, 1, 1, 189, 190) </td>\n",
       "                    </tr>\n",
       "                    <tr>\n",
       "                        <th> Dask graph </th>\n",
       "                        <td colspan=\"2\"> 1188 chunks in 2 graph layers </td>\n",
       "                    </tr>\n",
       "                    <tr>\n",
       "                        <th> Data type </th>\n",
       "                        <td colspan=\"2\"> uint16 numpy.ndarray </td>\n",
       "                    </tr>\n",
       "                </tbody>\n",
       "            </table>\n",
       "        </td>\n",
       "        <td>\n",
       "        <svg width=\"392\" height=\"190\" style=\"stroke:rgb(0,0,0);stroke-width:1\" >\n",
       "\n",
       "  <!-- Horizontal lines -->\n",
       "  <line x1=\"0\" y1=\"0\" x2=\"31\" y2=\"0\" style=\"stroke-width:2\" />\n",
       "  <line x1=\"0\" y1=\"2\" x2=\"31\" y2=\"2\" />\n",
       "  <line x1=\"0\" y1=\"4\" x2=\"31\" y2=\"4\" />\n",
       "  <line x1=\"0\" y1=\"6\" x2=\"31\" y2=\"6\" />\n",
       "  <line x1=\"0\" y1=\"8\" x2=\"31\" y2=\"8\" />\n",
       "  <line x1=\"0\" y1=\"10\" x2=\"31\" y2=\"10\" />\n",
       "  <line x1=\"0\" y1=\"12\" x2=\"31\" y2=\"12\" />\n",
       "  <line x1=\"0\" y1=\"14\" x2=\"31\" y2=\"14\" />\n",
       "  <line x1=\"0\" y1=\"17\" x2=\"31\" y2=\"17\" />\n",
       "  <line x1=\"0\" y1=\"19\" x2=\"31\" y2=\"19\" />\n",
       "  <line x1=\"0\" y1=\"21\" x2=\"31\" y2=\"21\" />\n",
       "  <line x1=\"0\" y1=\"23\" x2=\"31\" y2=\"23\" />\n",
       "  <line x1=\"0\" y1=\"25\" x2=\"31\" y2=\"25\" />\n",
       "  <line x1=\"0\" y1=\"27\" x2=\"31\" y2=\"27\" />\n",
       "  <line x1=\"0\" y1=\"29\" x2=\"31\" y2=\"29\" />\n",
       "  <line x1=\"0\" y1=\"31\" x2=\"31\" y2=\"31\" />\n",
       "  <line x1=\"0\" y1=\"34\" x2=\"31\" y2=\"34\" />\n",
       "  <line x1=\"0\" y1=\"36\" x2=\"31\" y2=\"36\" />\n",
       "  <line x1=\"0\" y1=\"38\" x2=\"31\" y2=\"38\" style=\"stroke-width:2\" />\n",
       "\n",
       "  <!-- Vertical lines -->\n",
       "  <line x1=\"0\" y1=\"0\" x2=\"0\" y2=\"38\" style=\"stroke-width:2\" />\n",
       "  <line x1=\"5\" y1=\"0\" x2=\"5\" y2=\"38\" />\n",
       "  <line x1=\"10\" y1=\"0\" x2=\"10\" y2=\"38\" />\n",
       "  <line x1=\"15\" y1=\"0\" x2=\"15\" y2=\"38\" />\n",
       "  <line x1=\"21\" y1=\"0\" x2=\"21\" y2=\"38\" />\n",
       "  <line x1=\"26\" y1=\"0\" x2=\"26\" y2=\"38\" />\n",
       "  <line x1=\"31\" y1=\"0\" x2=\"31\" y2=\"38\" style=\"stroke-width:2\" />\n",
       "\n",
       "  <!-- Colored Rectangle -->\n",
       "  <polygon points=\"0.0,0.0 31.698202355755285,0.0 31.698202355755285,38.295102308818066 0.0,38.295102308818066\" style=\"fill:#ECB172A0;stroke-width:0\"/>\n",
       "\n",
       "  <!-- Text -->\n",
       "  <text x=\"15.849101\" y=\"58.295102\" font-size=\"1.0rem\" font-weight=\"100\" text-anchor=\"middle\" >6</text>\n",
       "  <text x=\"51.698202\" y=\"19.147551\" font-size=\"1.0rem\" font-weight=\"100\" text-anchor=\"middle\" transform=\"rotate(0,51.698202,19.147551)\">18</text>\n",
       "\n",
       "\n",
       "  <!-- Horizontal lines -->\n",
       "  <line x1=\"101\" y1=\"0\" x2=\"121\" y2=\"20\" style=\"stroke-width:2\" />\n",
       "  <line x1=\"101\" y1=\"119\" x2=\"121\" y2=\"140\" style=\"stroke-width:2\" />\n",
       "\n",
       "  <!-- Vertical lines -->\n",
       "  <line x1=\"101\" y1=\"0\" x2=\"101\" y2=\"119\" style=\"stroke-width:2\" />\n",
       "  <line x1=\"102\" y1=\"1\" x2=\"102\" y2=\"121\" />\n",
       "  <line x1=\"104\" y1=\"3\" x2=\"104\" y2=\"123\" />\n",
       "  <line x1=\"106\" y1=\"5\" x2=\"106\" y2=\"125\" />\n",
       "  <line x1=\"108\" y1=\"7\" x2=\"108\" y2=\"126\" />\n",
       "  <line x1=\"110\" y1=\"9\" x2=\"110\" y2=\"128\" />\n",
       "  <line x1=\"112\" y1=\"11\" x2=\"112\" y2=\"130\" />\n",
       "  <line x1=\"114\" y1=\"13\" x2=\"114\" y2=\"132\" />\n",
       "  <line x1=\"116\" y1=\"15\" x2=\"116\" y2=\"134\" />\n",
       "  <line x1=\"118\" y1=\"17\" x2=\"118\" y2=\"136\" />\n",
       "  <line x1=\"119\" y1=\"18\" x2=\"119\" y2=\"138\" />\n",
       "  <line x1=\"121\" y1=\"20\" x2=\"121\" y2=\"140\" style=\"stroke-width:2\" />\n",
       "\n",
       "  <!-- Colored Rectangle -->\n",
       "  <polygon points=\"101.0,0.0 121.82108577967811,20.821085779678114 121.82108577967811,140.1895068323097 101.0,119.36842105263158\" style=\"fill:#ECB172A0;stroke-width:0\"/>\n",
       "\n",
       "  <!-- Horizontal lines -->\n",
       "  <line x1=\"101\" y1=\"0\" x2=\"221\" y2=\"0\" style=\"stroke-width:2\" />\n",
       "  <line x1=\"102\" y1=\"1\" x2=\"222\" y2=\"1\" />\n",
       "  <line x1=\"104\" y1=\"3\" x2=\"224\" y2=\"3\" />\n",
       "  <line x1=\"106\" y1=\"5\" x2=\"226\" y2=\"5\" />\n",
       "  <line x1=\"108\" y1=\"7\" x2=\"228\" y2=\"7\" />\n",
       "  <line x1=\"110\" y1=\"9\" x2=\"230\" y2=\"9\" />\n",
       "  <line x1=\"112\" y1=\"11\" x2=\"232\" y2=\"11\" />\n",
       "  <line x1=\"114\" y1=\"13\" x2=\"234\" y2=\"13\" />\n",
       "  <line x1=\"116\" y1=\"15\" x2=\"236\" y2=\"15\" />\n",
       "  <line x1=\"118\" y1=\"17\" x2=\"238\" y2=\"17\" />\n",
       "  <line x1=\"119\" y1=\"18\" x2=\"239\" y2=\"18\" />\n",
       "  <line x1=\"121\" y1=\"20\" x2=\"241\" y2=\"20\" style=\"stroke-width:2\" />\n",
       "\n",
       "  <!-- Vertical lines -->\n",
       "  <line x1=\"101\" y1=\"0\" x2=\"121\" y2=\"20\" style=\"stroke-width:2\" />\n",
       "  <line x1=\"221\" y1=\"0\" x2=\"241\" y2=\"20\" style=\"stroke-width:2\" />\n",
       "\n",
       "  <!-- Colored Rectangle -->\n",
       "  <polygon points=\"101.0,0.0 221.0,0.0 241.82108577967813,20.821085779678114 121.82108577967811,20.821085779678114\" style=\"fill:#ECB172A0;stroke-width:0\"/>\n",
       "\n",
       "  <!-- Horizontal lines -->\n",
       "  <line x1=\"121\" y1=\"20\" x2=\"241\" y2=\"20\" style=\"stroke-width:2\" />\n",
       "  <line x1=\"121\" y1=\"140\" x2=\"241\" y2=\"140\" style=\"stroke-width:2\" />\n",
       "\n",
       "  <!-- Vertical lines -->\n",
       "  <line x1=\"121\" y1=\"20\" x2=\"121\" y2=\"140\" style=\"stroke-width:2\" />\n",
       "  <line x1=\"241\" y1=\"20\" x2=\"241\" y2=\"140\" style=\"stroke-width:2\" />\n",
       "\n",
       "  <!-- Colored Rectangle -->\n",
       "  <polygon points=\"121.82108577967811,20.821085779678114 241.82108577967813,20.821085779678114 241.82108577967813,140.1895068323097 121.82108577967811,140.1895068323097\" style=\"fill:#ECB172A0;stroke-width:0\"/>\n",
       "\n",
       "  <!-- Text -->\n",
       "  <text x=\"181.821086\" y=\"160.189507\" font-size=\"1.0rem\" font-weight=\"100\" text-anchor=\"middle\" >190</text>\n",
       "  <text x=\"261.821086\" y=\"80.505296\" font-size=\"1.0rem\" font-weight=\"100\" text-anchor=\"middle\" transform=\"rotate(-90,261.821086,80.505296)\">189</text>\n",
       "  <text x=\"101.410543\" y=\"149.778964\" font-size=\"1.0rem\" font-weight=\"100\" text-anchor=\"middle\" transform=\"rotate(45,101.410543,149.778964)\">11</text>\n",
       "</svg>\n",
       "        </td>\n",
       "    </tr>\n",
       "</table>"
      ],
      "text/plain": [
       "dask.array<from-zarr, shape=(18, 6, 11, 189, 190), dtype=uint16, chunksize=(1, 1, 1, 189, 190), chunktype=numpy.ndarray>"
      ]
     },
     "metadata": {},
     "output_type": "display_data"
    },
    {
     "data": {
      "text/plain": [
       "'scale'"
      ]
     },
     "metadata": {},
     "output_type": "display_data"
    },
    {
     "data": {
      "text/plain": [
       "{'t': 1, 'c': 1, 'z': 1, 'y': 1, 'x': 1}"
      ]
     },
     "metadata": {},
     "output_type": "display_data"
    },
    {
     "data": {
      "text/plain": [
       "'translation'"
      ]
     },
     "metadata": {},
     "output_type": "display_data"
    },
    {
     "data": {
      "text/plain": [
       "{'t': 0.0, 'c': 0.0, 'z': 0.0, 'y': 0.0, 'x': 0.0}"
      ]
     },
     "metadata": {},
     "output_type": "display_data"
    },
    {
     "data": {
      "text/plain": [
       "'units'"
      ]
     },
     "metadata": {},
     "output_type": "display_data"
    },
    {
     "data": {
      "text/plain": [
       "{'t': None, 'c': None, 'z': 'micrometer', 'y': 'micrometer', 'x': 'micrometer'}"
      ]
     },
     "metadata": {},
     "output_type": "display_data"
    }
   ],
   "source": [
    "display(\"num_resolutions\", num_resolutions)\n",
    "display(\"image\", image)\n",
    "display(\"data\", data)\n",
    "display(\"scale\", scale)\n",
    "display(\"translation\", translation)\n",
    "display(\"units\", units)"
   ]
  },
  {
   "cell_type": "code",
   "execution_count": 10,
   "metadata": {},
   "outputs": [
    {
     "name": "stdout",
     "output_type": "stream",
     "text": [
      "some pixel value: 0\n",
      "same pixel after adding 2: 2\n"
     ]
    }
   ],
   "source": [
    "# process one resolution\n",
    "numpy_array = data.compute()\n",
    "print(\"some pixel value:\", numpy_array[0, 0, 0, 1, 1])\n",
    "spatial_indices = [index for index, value in enumerate(image.dims) if value in ('x', 'y', 'z')]\n",
    "numpy_array = numpy_array + 2\n",
    "print(\"same pixel after adding 2:\", numpy_array[0, 0, 0, 1, 1])"
   ]
  },
  {
   "cell_type": "code",
   "execution_count": 11,
   "metadata": {},
   "outputs": [],
   "source": [
    "# save one resolution\n",
    "output_image = ngff_zarr.to_ngff_image(numpy_array, image.dims, image.scale, image.translation, \"processed\", image.axes_units )\n",
    "\n",
    "# Error: ModuleNotFoundError: No module named 'dask_image'\n",
    "# https://github.com/thewtex/ngff-zarr/issues/53\n",
    "output_multiscales = ngff_zarr.to_multiscales(output_image, 1)\n",
    "ngff_zarr.to_ngff_zarr(f\"{data_path}/output_ome_zarr\", output_multiscales)\n",
    "\n",
    "# the output can be opened with Napari, using the ome-zarr plugin"
   ]
  }
 ],
 "metadata": {
  "kernelspec": {
   "display_name": "next_gen",
   "language": "python",
   "name": "python3"
  },
  "language_info": {
   "codemirror_mode": {
    "name": "ipython",
    "version": 3
   },
   "file_extension": ".py",
   "mimetype": "text/x-python",
   "name": "python",
   "nbconvert_exporter": "python",
   "pygments_lexer": "ipython3",
   "version": "3.10.13"
  }
 },
 "nbformat": 4,
 "nbformat_minor": 2
}
