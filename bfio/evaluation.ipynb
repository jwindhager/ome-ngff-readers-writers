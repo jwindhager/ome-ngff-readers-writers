{
 "cells": [
  {
   "cell_type": "markdown",
   "id": "2749bc8a-d3cc-4fad-bbe1-40dcdf0a7975",
   "metadata": {},
   "source": [
    "# bfio"
   ]
  },
  {
   "cell_type": "code",
   "execution_count": 1,
   "id": "4e0ec88d-9234-4dff-9aef-d39ff43ca7d1",
   "metadata": {},
   "outputs": [],
   "source": [
    "import numpy as np\n",
    "from bfio import BioReader, BioWriter"
   ]
  },
  {
   "cell_type": "code",
   "execution_count": 2,
   "id": "6ba9d1c5-5fc8-4c53-adec-194419974922",
   "metadata": {},
   "outputs": [],
   "source": [
    "# ngff_url = \"https://uk1s3.embassy.ebi.ac.uk/idr/zarr/v0.4/idr0101A/13457539.zarr\"\n",
    "ngff_path = \"../data/13457539.zarr\""
   ]
  },
  {
   "cell_type": "markdown",
   "id": "bfb2d5ba-d0d0-47ee-9382-54eadfda4429",
   "metadata": {},
   "source": [
    "## metadata"
   ]
  },
  {
   "cell_type": "code",
   "execution_count": 3,
   "id": "3b79452a-a7f7-4484-8cc7-54182236a219",
   "metadata": {},
   "outputs": [
    {
     "name": "stdout",
     "output_type": "stream",
     "text": [
      "shape: (189, 190, 11, 6, 18)\n",
      "dtype: uint16\n",
      "bpp: 2\n",
      "channel_names: [None, None, None, None, None, None]\n",
      "physical_size: (None, <UnitsLength.MICROMETER: 'µm'>) (None, <UnitsLength.MICROMETER: 'µm'>) (None, <UnitsLength.MICROMETER: 'µm'>)\n"
     ]
    }
   ],
   "source": [
    "with BioReader(ngff_path, backend=\"zarr\") as reader:\n",
    "    print(\"shape:\", reader.shape)\n",
    "    print(\"dtype:\", reader.dtype)\n",
    "    print(\"bpp:\", reader.bpp)  # reader.bytes_per_pixel\n",
    "    print(\"channel_names:\", reader.channel_names)\n",
    "    print(\"physical_size:\", reader.ps_x, reader.ps_y, reader.ps_z)  # reader.physical_size_x, reader.physical_size_y, reader.physical_size_z\n",
    "    # print(\"spp:\", reader.spp)  # reader.samples_per_pixel"
   ]
  },
  {
   "cell_type": "code",
   "execution_count": 4,
   "id": "b02a2b06-f382-437c-8950-bee7ef68610b",
   "metadata": {},
   "outputs": [
    {
     "name": "stdout",
     "output_type": "stream",
     "text": [
      "{\"rights\":null,\"projects\":[],\"datasets\":[],\"folders\":[],\"experiments\":[],\"plates\":[],\"screens\":[],\"experimenters\":[],\"experimenter_groups\":[],\"instruments\":[],\"images\":[{\"acquisition_date\":null,\"experimenter_ref\":null,\"description\":null,\"experiment_ref\":null,\"experimenter_group_ref\":null,\"instrument_ref\":null,\"objective_settings\":null,\"imaging_environment\":null,\"stage_label\":null,\"pixels\":{\"channels\":[{\"light_source_settings\":null,\"detector_settings\":null,\"filter_set_ref\":null,\"annotation_refs\":[],\"light_path\":null,\"id\":\"Channel:6\",\"name\":null,\"samples_per_pixel\":null,\"illumination_type\":null,\"pinhole_size\":null,\"pinhole_size_unit\":\"µm\",\"acquisition_mode\":null,\"contrast_method\":null,\"excitation_wavelength\":null,\"excitation_wavelength_unit\":\"nm\",\"emission_wavelength\":null,\"emission_wavelength_unit\":\"nm\",\"fluor\":null,\"nd_filter\":null,\"pockel_cell_setting\":null,\"color\":\"white\"},{\"light_source_settings\":null,\"detector_settings\":null,\"filter_set_ref\":null,\"annotation_refs\":[],\"light_path\":null,\"id\":\"Channel:7\",\"name\":null,\"samples_per_pixel\":null,\"illumination_type\":null,\"pinhole_size\":null,\"pinhole_size_unit\":\"µm\",\"acquisition_mode\":null,\"contrast_method\":null,\"excitation_wavelength\":null,\"excitation_wavelength_unit\":\"nm\",\"emission_wavelength\":null,\"emission_wavelength_unit\":\"nm\",\"fluor\":null,\"nd_filter\":null,\"pockel_cell_setting\":null,\"color\":\"white\"},{\"light_source_settings\":null,\"detector_settings\":null,\"filter_set_ref\":null,\"annotation_refs\":[],\"light_path\":null,\"id\":\"Channel:8\",\"name\":null,\"samples_per_pixel\":null,\"illumination_type\":null,\"pinhole_size\":null,\"pinhole_size_unit\":\"µm\",\"acquisition_mode\":null,\"contrast_method\":null,\"excitation_wavelength\":null,\"excitation_wavelength_unit\":\"nm\",\"emission_wavelength\":null,\"emission_wavelength_unit\":\"nm\",\"fluor\":null,\"nd_filter\":null,\"pockel_cell_setting\":null,\"color\":\"white\"},{\"light_source_settings\":null,\"detector_settings\":null,\"filter_set_ref\":null,\"annotation_refs\":[],\"light_path\":null,\"id\":\"Channel:9\",\"name\":null,\"samples_per_pixel\":null,\"illumination_type\":null,\"pinhole_size\":null,\"pinhole_size_unit\":\"µm\",\"acquisition_mode\":null,\"contrast_method\":null,\"excitation_wavelength\":null,\"excitation_wavelength_unit\":\"nm\",\"emission_wavelength\":null,\"emission_wavelength_unit\":\"nm\",\"fluor\":null,\"nd_filter\":null,\"pockel_cell_setting\":null,\"color\":\"white\"},{\"light_source_settings\":null,\"detector_settings\":null,\"filter_set_ref\":null,\"annotation_refs\":[],\"light_path\":null,\"id\":\"Channel:10\",\"name\":null,\"samples_per_pixel\":null,\"illumination_type\":null,\"pinhole_size\":null,\"pinhole_size_unit\":\"µm\",\"acquisition_mode\":null,\"contrast_method\":null,\"excitation_wavelength\":null,\"excitation_wavelength_unit\":\"nm\",\"emission_wavelength\":null,\"emission_wavelength_unit\":\"nm\",\"fluor\":null,\"nd_filter\":null,\"pockel_cell_setting\":null,\"color\":\"white\"},{\"light_source_settings\":null,\"detector_settings\":null,\"filter_set_ref\":null,\"annotation_refs\":[],\"light_path\":null,\"id\":\"Channel:11\",\"name\":null,\"samples_per_pixel\":null,\"illumination_type\":null,\"pinhole_size\":null,\"pinhole_size_unit\":\"µm\",\"acquisition_mode\":null,\"contrast_method\":null,\"excitation_wavelength\":null,\"excitation_wavelength_unit\":\"nm\",\"emission_wavelength\":null,\"emission_wavelength_unit\":\"nm\",\"fluor\":null,\"nd_filter\":null,\"pockel_cell_setting\":null,\"color\":\"white\"}],\"bin_data_blocks\":[],\"tiff_data_blocks\":[],\"metadata_only\":null,\"planes\":[],\"id\":\"Pixels:1\",\"dimension_order\":\"XYZCT\",\"type\":\"uint16\",\"significant_bits\":null,\"interleaved\":null,\"big_endian\":false,\"size_x\":190,\"size_y\":189,\"size_z\":11,\"size_c\":6,\"size_t\":18,\"physical_size_x\":null,\"physical_size_x_unit\":\"µm\",\"physical_size_y\":null,\"physical_size_y_unit\":\"µm\",\"physical_size_z\":null,\"physical_size_z_unit\":\"µm\",\"time_increment\":null,\"time_increment_unit\":\"s\"},\"roi_refs\":[],\"microbeam_manipulation_refs\":[],\"annotation_refs\":[],\"id\":\"Image:1\",\"name\":\"13457539.zarr\"}],\"structured_annotations\":[],\"rois\":[],\"binary_only\":null,\"uuid\":null,\"creator\":null}\n"
     ]
    }
   ],
   "source": [
    "with BioReader(ngff_path, backend=\"zarr\") as reader:\n",
    "    print(reader.metadata.model_dump_json())"
   ]
  },
  {
   "cell_type": "markdown",
   "id": "ed247c23-468a-42d0-8dde-c9ef409febe3",
   "metadata": {},
   "source": [
    "## reading"
   ]
  },
  {
   "cell_type": "code",
   "execution_count": 5,
   "id": "476c664e-5263-4b6e-a00b-de4a0944023a",
   "metadata": {},
   "outputs": [
    {
     "name": "stdout",
     "output_type": "stream",
     "text": [
      "(40, 20, 3, 2, 2)\n",
      "uint16\n"
     ]
    }
   ],
   "source": [
    "with BioReader(ngff_path, backend=\"zarr\") as reader:\n",
    "    img_yxzct = reader.read(X=(0, 20), Y=(0, 40), Z=(0, 3), C=(0, 2), T=(0, 1))\n",
    "    print(img_yxzct.shape)\n",
    "    print(img_yxzct.dtype)"
   ]
  },
  {
   "cell_type": "markdown",
   "id": "18415f28-de8f-4ee1-bddf-ef1c306cb14c",
   "metadata": {},
   "source": [
    "## writing"
   ]
  },
  {
   "cell_type": "code",
   "execution_count": 6,
   "id": "9c460966-f063-4bf4-bbbd-f12ece5a0241",
   "metadata": {},
   "outputs": [],
   "source": [
    "with BioReader(ngff_path, backend=\"zarr\") as reader:\n",
    "    img_yxzct = reader.read()\n",
    "    with BioWriter(\"out.zarr\", backend=\"zarr\", metadata=reader.metadata) as writer:\n",
    "        writer.write(img_yxzct)"
   ]
  }
 ],
 "metadata": {
  "kernelspec": {
   "display_name": "Python 3 (ipykernel)",
   "language": "python",
   "name": "python3"
  },
  "language_info": {
   "codemirror_mode": {
    "name": "ipython",
    "version": 3
   },
   "file_extension": ".py",
   "mimetype": "text/x-python",
   "name": "python",
   "nbconvert_exporter": "python",
   "pygments_lexer": "ipython3",
   "version": "3.11.6"
  }
 },
 "nbformat": 4,
 "nbformat_minor": 5
}
