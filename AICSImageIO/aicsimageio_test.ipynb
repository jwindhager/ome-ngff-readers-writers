{
 "cells": [
  {
   "cell_type": "markdown",
   "metadata": {},
   "source": [
    "# AICSImage"
   ]
  },
  {
   "cell_type": "code",
   "execution_count": 1,
   "metadata": {},
   "outputs": [
    {
     "name": "stdout",
     "output_type": "stream",
     "text": [
      "\u001b[0;31mInit signature:\u001b[0m\n",
      "\u001b[0mAICSImage\u001b[0m\u001b[0;34m(\u001b[0m\u001b[0;34m\u001b[0m\n",
      "\u001b[0;34m\u001b[0m    \u001b[0mimage\u001b[0m\u001b[0;34m:\u001b[0m \u001b[0mUnion\u001b[0m\u001b[0;34m[\u001b[0m\u001b[0mstr\u001b[0m\u001b[0;34m,\u001b[0m \u001b[0mpathlib\u001b[0m\u001b[0;34m.\u001b[0m\u001b[0mPath\u001b[0m\u001b[0;34m,\u001b[0m \u001b[0mnumpy\u001b[0m\u001b[0;34m.\u001b[0m\u001b[0mndarray\u001b[0m\u001b[0;34m,\u001b[0m \u001b[0mdask\u001b[0m\u001b[0;34m.\u001b[0m\u001b[0marray\u001b[0m\u001b[0;34m.\u001b[0m\u001b[0mcore\u001b[0m\u001b[0;34m.\u001b[0m\u001b[0mArray\u001b[0m\u001b[0;34m,\u001b[0m \u001b[0mxarray\u001b[0m\u001b[0;34m.\u001b[0m\u001b[0mcore\u001b[0m\u001b[0;34m.\u001b[0m\u001b[0mdataarray\u001b[0m\u001b[0;34m.\u001b[0m\u001b[0mDataArray\u001b[0m\u001b[0;34m,\u001b[0m \u001b[0mList\u001b[0m\u001b[0;34m[\u001b[0m\u001b[0mUnion\u001b[0m\u001b[0;34m[\u001b[0m\u001b[0mnumpy\u001b[0m\u001b[0;34m.\u001b[0m\u001b[0mndarray\u001b[0m\u001b[0;34m,\u001b[0m \u001b[0mdask\u001b[0m\u001b[0;34m.\u001b[0m\u001b[0marray\u001b[0m\u001b[0;34m.\u001b[0m\u001b[0mcore\u001b[0m\u001b[0;34m.\u001b[0m\u001b[0mArray\u001b[0m\u001b[0;34m,\u001b[0m \u001b[0mxarray\u001b[0m\u001b[0;34m.\u001b[0m\u001b[0mcore\u001b[0m\u001b[0;34m.\u001b[0m\u001b[0mdataarray\u001b[0m\u001b[0;34m.\u001b[0m\u001b[0mDataArray\u001b[0m\u001b[0;34m]\u001b[0m\u001b[0;34m]\u001b[0m\u001b[0;34m,\u001b[0m \u001b[0mList\u001b[0m\u001b[0;34m[\u001b[0m\u001b[0mUnion\u001b[0m\u001b[0;34m[\u001b[0m\u001b[0mstr\u001b[0m\u001b[0;34m,\u001b[0m \u001b[0mpathlib\u001b[0m\u001b[0;34m.\u001b[0m\u001b[0mPath\u001b[0m\u001b[0;34m]\u001b[0m\u001b[0;34m]\u001b[0m\u001b[0;34m]\u001b[0m\u001b[0;34m,\u001b[0m\u001b[0;34m\u001b[0m\n",
      "\u001b[0;34m\u001b[0m    \u001b[0mreader\u001b[0m\u001b[0;34m:\u001b[0m \u001b[0mOptional\u001b[0m\u001b[0;34m[\u001b[0m\u001b[0mType\u001b[0m\u001b[0;34m[\u001b[0m\u001b[0maicsimageio\u001b[0m\u001b[0;34m.\u001b[0m\u001b[0mreaders\u001b[0m\u001b[0;34m.\u001b[0m\u001b[0mreader\u001b[0m\u001b[0;34m.\u001b[0m\u001b[0mReader\u001b[0m\u001b[0;34m]\u001b[0m\u001b[0;34m]\u001b[0m \u001b[0;34m=\u001b[0m \u001b[0;32mNone\u001b[0m\u001b[0;34m,\u001b[0m\u001b[0;34m\u001b[0m\n",
      "\u001b[0;34m\u001b[0m    \u001b[0mreconstruct_mosaic\u001b[0m\u001b[0;34m:\u001b[0m \u001b[0mbool\u001b[0m \u001b[0;34m=\u001b[0m \u001b[0;32mTrue\u001b[0m\u001b[0;34m,\u001b[0m\u001b[0;34m\u001b[0m\n",
      "\u001b[0;34m\u001b[0m    \u001b[0mfs_kwargs\u001b[0m\u001b[0;34m:\u001b[0m \u001b[0mDict\u001b[0m\u001b[0;34m[\u001b[0m\u001b[0mstr\u001b[0m\u001b[0;34m,\u001b[0m \u001b[0mAny\u001b[0m\u001b[0;34m]\u001b[0m \u001b[0;34m=\u001b[0m \u001b[0;34m{\u001b[0m\u001b[0;34m}\u001b[0m\u001b[0;34m,\u001b[0m\u001b[0;34m\u001b[0m\n",
      "\u001b[0;34m\u001b[0m    \u001b[0;34m**\u001b[0m\u001b[0mkwargs\u001b[0m\u001b[0;34m:\u001b[0m \u001b[0mAny\u001b[0m\u001b[0;34m,\u001b[0m\u001b[0;34m\u001b[0m\n",
      "\u001b[0;34m\u001b[0m\u001b[0;34m)\u001b[0m\u001b[0;34m\u001b[0m\u001b[0;34m\u001b[0m\u001b[0m\n",
      "\u001b[0;31mDocstring:\u001b[0m     \n",
      "AICSImage takes microscopy image data types (files or arrays) of varying\n",
      "dimensions (\"ZYX\", \"TCZYX\", \"CYX\") and reads them as consistent 5D \"TCZYX\"\n",
      "(\"Time-Channel-Z-Y-X\") ordered array(s). The data and metadata are lazy\n",
      "loaded and can be accessed as needed.\n",
      "\n",
      "Parameters\n",
      "----------\n",
      "image: types.ImageLike\n",
      "    A string, Path, fsspec supported URI, or arraylike to read.\n",
      "reader: Optional[Type[Reader]]\n",
      "    The Reader class to specifically use for reading the provided image.\n",
      "    Default: None (find matching reader)\n",
      "reconstruct_mosaic: bool\n",
      "    Boolean for setting that data for this object to the reconstructed / stitched\n",
      "    mosaic image.\n",
      "    Default: True (reconstruct the mosaic image from tiles)\n",
      "    Notes: If True and image is a mosaic, data will be fully reconstructed and\n",
      "    stitched array.\n",
      "    If True and base reader doesn't support tile stitching, data won't be stitched\n",
      "    and instead will have an `M` dimension for tiles.\n",
      "    If False and image is a mosaic, data won't be stitched and instead will have an\n",
      "    `M` dimension for tiles.\n",
      "    If image is not a mosaic, data won't be stitched or have an `M` dimension for\n",
      "    tiles.\n",
      "fs_kwargs: Dict[str, Any]\n",
      "    Any specific keyword arguments to pass down to the fsspec created filesystem.\n",
      "    Default: {}\n",
      "kwargs: Any\n",
      "    Extra keyword arguments that will be passed down to the reader subclass.\n",
      "\n",
      "Examples\n",
      "--------\n",
      "Initialize an image then read the file and return specified slices as a numpy\n",
      "array.\n",
      "\n",
      ">>> img = AICSImage(\"my_file.tiff\")\n",
      "... zstack_t8 = img.get_image_data(\"ZYX\", T=8, C=0)\n",
      "\n",
      "Initialize an image, construct a delayed dask array for certain slices, then\n",
      "read only the specified chunk of data.\n",
      "\n",
      ">>> img = AICSImage(\"my_file.czi\")\n",
      "... zstack_t8 = img.get_image_dask_data(\"ZYX\", T=8, C=0)\n",
      "... zstack_t8_data = zstack_t8.compute()\n",
      "\n",
      "Initialize an image with a dask or numpy array.\n",
      "\n",
      ">>> data = np.random.rand(100, 100)\n",
      "... img = AICSImage(data)\n",
      "\n",
      "Initialize an image from S3 with s3fs.\n",
      "\n",
      ">>> img = AICSImage(\"s3://my_bucket/my_file.tiff\")\n",
      "\n",
      "Initialize an image and pass arguments to the reader using kwargs.\n",
      "\n",
      ">>> img = AICSImage(\"my_file.czi\", chunk_dims=[\"T\", \"Y\", \"X\"])\n",
      "\n",
      "Initialize an image, change scene, read data to numpy.\n",
      "\n",
      ">>> img = AICSImage(\"my_many_scene.czi\")\n",
      "... img.set_scene(\"Image:3\")\n",
      "... img.data\n",
      "\n",
      "Initialize an image with a specific reader. This is useful if you know the file\n",
      "type in advance or would like to skip a few of the file format checks we do\n",
      "internally. Useful when reading from remote sources to reduce network round trips.\n",
      "\n",
      ">>> img = AICSImage(\"malformed_metadata.ome.tiff\", reader=readers.TiffReader)\n",
      "\n",
      "Data for a mosaic file is returned pre-stitched (if the base reader supports it).\n",
      "\n",
      ">>> img = AICSImage(\"big_mosaic.czi\")\n",
      "... img.dims  # <Dimensions [T: 40, C: 3, Z: 1, Y: 30000, X: 45000]>\n",
      "\n",
      "Data for mosaic file can be explicitly returned as tiles.\n",
      "This is the same data as a reconstructed mosaic except that the tiles are\n",
      "stored in their own dimension (M).\n",
      "\n",
      ">>> img = AICSImage(\"big_mosaic.czi\", reconstruct_mosaic=False)\n",
      "... img.dims  # <Dimensions [M: 150, T: 40, C: 3, Z: 1, Y: 200, X: 300]>\n",
      "\n",
      "Data is mosaic file but reader doesn't support tile stitching.\n",
      "\n",
      ">>> img = AICSImage(\"unsupported_mosaic.ext\")\n",
      "... img.dims  # <Dimensions [M: 100, T: 1, C: 2, Z: 1, Y: 400, X: 400]>\n",
      "\n",
      "Notes\n",
      "-----\n",
      "If your image is made up of mosaic tiles, data and dimension information returned\n",
      "from this object will be from the tiles already stitched together.\n",
      "\n",
      "If you do not want the image pre-stitched together, you can use the base reader\n",
      "by either instantiating the reader independently or using the `.reader` property.\n",
      "\u001b[0;31mFile:\u001b[0m           ~/mambaforge/envs/ome-ngff-readers-writers-aicsimage/lib/python3.10/site-packages/aicsimageio/aics_image.py\n",
      "\u001b[0;31mType:\u001b[0m           ABCMeta\n",
      "\u001b[0;31mSubclasses:\u001b[0m     "
     ]
    }
   ],
   "source": [
    "# Use AICSImage top level entry point\n",
    "\n",
    "from aicsimageio import AICSImage\n",
    "AICSImage?"
   ]
  },
  {
   "cell_type": "markdown",
   "metadata": {},
   "source": [
    "## Reading\n",
    "\n",
    "https://allencellmodeling.github.io/aicsimageio/_modules/aicsimageio/readers/ome_zarr_reader.html#OmeZarrReader"
   ]
  },
  {
   "cell_type": "code",
   "execution_count": 2,
   "metadata": {},
   "outputs": [
    {
     "name": "stdout",
     "output_type": "stream",
     "text": [
      "\u001b[0;31mInit signature:\u001b[0m\n",
      "\u001b[0mreaders\u001b[0m\u001b[0;34m.\u001b[0m\u001b[0mome_zarr_reader\u001b[0m\u001b[0;34m.\u001b[0m\u001b[0mOmeZarrReader\u001b[0m\u001b[0;34m(\u001b[0m\u001b[0;34m\u001b[0m\n",
      "\u001b[0;34m\u001b[0m    \u001b[0mimage\u001b[0m\u001b[0;34m:\u001b[0m \u001b[0mUnion\u001b[0m\u001b[0;34m[\u001b[0m\u001b[0mstr\u001b[0m\u001b[0;34m,\u001b[0m \u001b[0mpathlib\u001b[0m\u001b[0;34m.\u001b[0m\u001b[0mPath\u001b[0m\u001b[0;34m]\u001b[0m\u001b[0;34m,\u001b[0m\u001b[0;34m\u001b[0m\n",
      "\u001b[0;34m\u001b[0m    \u001b[0mfs_kwargs\u001b[0m\u001b[0;34m:\u001b[0m \u001b[0mDict\u001b[0m\u001b[0;34m[\u001b[0m\u001b[0mstr\u001b[0m\u001b[0;34m,\u001b[0m \u001b[0mAny\u001b[0m\u001b[0;34m]\u001b[0m \u001b[0;34m=\u001b[0m \u001b[0;34m{\u001b[0m\u001b[0;34m}\u001b[0m\u001b[0;34m,\u001b[0m\u001b[0;34m\u001b[0m\n",
      "\u001b[0;34m\u001b[0m\u001b[0;34m)\u001b[0m\u001b[0;34m\u001b[0m\u001b[0;34m\u001b[0m\u001b[0m\n",
      "\u001b[0;31mDocstring:\u001b[0m     \n",
      "Wraps the ome-zarr-py API to provide the same aicsimageio Reader API but for\n",
      "OmeZarr images.\n",
      "\n",
      "Parameters\n",
      "----------\n",
      "image: types.PathLike\n",
      "    Path to image file to construct Reader for.\n",
      "fs_kwargs: Dict[str, Any]\n",
      "    Any specific keyword arguments to pass down to the fsspec created filesystem.\n",
      "    Default: {}\n",
      "\u001b[0;31mFile:\u001b[0m           ~/mambaforge/envs/ome-ngff-readers-writers-aicsimage/lib/python3.10/site-packages/aicsimageio/readers/ome_zarr_reader.py\n",
      "\u001b[0;31mType:\u001b[0m           ABCMeta\n",
      "\u001b[0;31mSubclasses:\u001b[0m     "
     ]
    }
   ],
   "source": [
    "# this is the reader class used by AICSImageIO\n",
    "\n",
    "from aicsimageio import readers\n",
    "readers.ome_zarr_reader.OmeZarrReader?"
   ]
  },
  {
   "cell_type": "code",
   "execution_count": 3,
   "metadata": {},
   "outputs": [
    {
     "ename": "NoCredentialsError",
     "evalue": "Unable to locate credentials",
     "output_type": "error",
     "traceback": [
      "\u001b[0;31m---------------------------------------------------------------------------\u001b[0m",
      "\u001b[0;31mNoCredentialsError\u001b[0m                        Traceback (most recent call last)",
      "\u001b[1;32m/Users/malbert/meetings/20231106_NGFF_hackathon/ome-ngff-readers-writers/AICSImageio/exploration.ipynb Cell 5\u001b[0m line \u001b[0;36m5\n\u001b[1;32m      <a href='vscode-notebook-cell:/Users/malbert/meetings/20231106_NGFF_hackathon/ome-ngff-readers-writers/AICSImageio/exploration.ipynb#X32sZmlsZQ%3D%3D?line=0'>1</a>\u001b[0m \u001b[39m# Read from IDR S3\u001b[39;00m\n\u001b[1;32m      <a href='vscode-notebook-cell:/Users/malbert/meetings/20231106_NGFF_hackathon/ome-ngff-readers-writers/AICSImageio/exploration.ipynb#X32sZmlsZQ%3D%3D?line=2'>3</a>\u001b[0m filepath \u001b[39m=\u001b[39m \u001b[39m\"\u001b[39m\u001b[39ms3://uk1s3.embassy.ebi.ac.uk/idr/zarr/v0.4/idr0101A/13457539.zarr\u001b[39m\u001b[39m\"\u001b[39m\n\u001b[0;32m----> <a href='vscode-notebook-cell:/Users/malbert/meetings/20231106_NGFF_hackathon/ome-ngff-readers-writers/AICSImageio/exploration.ipynb#X32sZmlsZQ%3D%3D?line=4'>5</a>\u001b[0m aim \u001b[39m=\u001b[39m AICSImage(filepath) \u001b[39m# fails with no credentials error\u001b[39;00m\n",
      "File \u001b[0;32m~/mambaforge/envs/ome-ngff-readers-writers-aicsimage/lib/python3.10/site-packages/aicsimageio/aics_image.py:277\u001b[0m, in \u001b[0;36mAICSImage.__init__\u001b[0;34m(self, image, reader, reconstruct_mosaic, fs_kwargs, **kwargs)\u001b[0m\n\u001b[1;32m    267\u001b[0m \u001b[39mdef\u001b[39;00m \u001b[39m__init__\u001b[39m(\n\u001b[1;32m    268\u001b[0m     \u001b[39mself\u001b[39m,\n\u001b[1;32m    269\u001b[0m     image: types\u001b[39m.\u001b[39mImageLike,\n\u001b[0;32m   (...)\u001b[0m\n\u001b[1;32m    273\u001b[0m     \u001b[39m*\u001b[39m\u001b[39m*\u001b[39mkwargs: Any,\n\u001b[1;32m    274\u001b[0m ):\n\u001b[1;32m    275\u001b[0m     \u001b[39mif\u001b[39;00m reader \u001b[39mis\u001b[39;00m \u001b[39mNone\u001b[39;00m:\n\u001b[1;32m    276\u001b[0m         \u001b[39m# Determine reader class and create dask delayed array\u001b[39;00m\n\u001b[0;32m--> 277\u001b[0m         ReaderClass \u001b[39m=\u001b[39m \u001b[39mself\u001b[39;49m\u001b[39m.\u001b[39;49mdetermine_reader(image, fs_kwargs\u001b[39m=\u001b[39;49mfs_kwargs, \u001b[39m*\u001b[39;49m\u001b[39m*\u001b[39;49mkwargs)\n\u001b[1;32m    278\u001b[0m     \u001b[39melse\u001b[39;00m:\n\u001b[1;32m    279\u001b[0m         \u001b[39m# Init reader\u001b[39;00m\n\u001b[1;32m    280\u001b[0m         ReaderClass \u001b[39m=\u001b[39m reader\n",
      "File \u001b[0;32m~/mambaforge/envs/ome-ngff-readers-writers-aicsimage/lib/python3.10/site-packages/aicsimageio/aics_image.py:176\u001b[0m, in \u001b[0;36mAICSImage.determine_reader\u001b[0;34m(image, fs_kwargs, **kwargs)\u001b[0m\n\u001b[1;32m    174\u001b[0m \u001b[39m# Try reader detection based off of file path extension\u001b[39;00m\n\u001b[1;32m    175\u001b[0m \u001b[39mif\u001b[39;00m \u001b[39misinstance\u001b[39m(image, (\u001b[39mstr\u001b[39m, Path)):\n\u001b[0;32m--> 176\u001b[0m     _, path \u001b[39m=\u001b[39m pathlike_to_fs(image, enforce_exists\u001b[39m=\u001b[39;49m\u001b[39mTrue\u001b[39;49;00m, fs_kwargs\u001b[39m=\u001b[39;49mfs_kwargs)\n\u001b[1;32m    178\u001b[0m     \u001b[39m# Check for extension in FORMAT_IMPLEMENTATIONS\u001b[39;00m\n\u001b[1;32m    179\u001b[0m     \u001b[39mfor\u001b[39;00m format_ext, readers \u001b[39min\u001b[39;00m FORMAT_IMPLEMENTATIONS\u001b[39m.\u001b[39mitems():\n",
      "File \u001b[0;32m~/mambaforge/envs/ome-ngff-readers-writers-aicsimage/lib/python3.10/site-packages/aicsimageio/utils/io_utils.py:55\u001b[0m, in \u001b[0;36mpathlike_to_fs\u001b[0;34m(uri, enforce_exists, fs_kwargs)\u001b[0m\n\u001b[1;32m     53\u001b[0m \u001b[39m# Check file exists\u001b[39;00m\n\u001b[1;32m     54\u001b[0m \u001b[39mif\u001b[39;00m enforce_exists:\n\u001b[0;32m---> 55\u001b[0m     \u001b[39mif\u001b[39;00m \u001b[39mnot\u001b[39;00m fs\u001b[39m.\u001b[39;49mexists(path):\n\u001b[1;32m     56\u001b[0m         \u001b[39mraise\u001b[39;00m \u001b[39mFileNotFoundError\u001b[39;00m(\u001b[39mf\u001b[39m\u001b[39m\"\u001b[39m\u001b[39m{\u001b[39;00mfs\u001b[39m.\u001b[39mprotocol\u001b[39m}\u001b[39;00m\u001b[39m://\u001b[39m\u001b[39m{\u001b[39;00mpath\u001b[39m}\u001b[39;00m\u001b[39m\"\u001b[39m)\n\u001b[1;32m     58\u001b[0m \u001b[39m# Get and store details\u001b[39;00m\n\u001b[1;32m     59\u001b[0m \u001b[39m# We do not return an AbstractBufferedFile (i.e. fs.open) as we do not want to have\u001b[39;00m\n\u001b[1;32m     60\u001b[0m \u001b[39m# any open file buffers _after_ any API call. API calls must themselves call\u001b[39;00m\n\u001b[1;32m     61\u001b[0m \u001b[39m# fs.open and complete their function during the context of the opened buffer.\u001b[39;00m\n",
      "File \u001b[0;32m~/mambaforge/envs/ome-ngff-readers-writers-aicsimage/lib/python3.10/site-packages/fsspec/asyn.py:121\u001b[0m, in \u001b[0;36msync_wrapper.<locals>.wrapper\u001b[0;34m(*args, **kwargs)\u001b[0m\n\u001b[1;32m    118\u001b[0m \u001b[39m@functools\u001b[39m\u001b[39m.\u001b[39mwraps(func)\n\u001b[1;32m    119\u001b[0m \u001b[39mdef\u001b[39;00m \u001b[39mwrapper\u001b[39m(\u001b[39m*\u001b[39margs, \u001b[39m*\u001b[39m\u001b[39m*\u001b[39mkwargs):\n\u001b[1;32m    120\u001b[0m     \u001b[39mself\u001b[39m \u001b[39m=\u001b[39m obj \u001b[39mor\u001b[39;00m args[\u001b[39m0\u001b[39m]\n\u001b[0;32m--> 121\u001b[0m     \u001b[39mreturn\u001b[39;00m sync(\u001b[39mself\u001b[39;49m\u001b[39m.\u001b[39;49mloop, func, \u001b[39m*\u001b[39;49margs, \u001b[39m*\u001b[39;49m\u001b[39m*\u001b[39;49mkwargs)\n",
      "File \u001b[0;32m~/mambaforge/envs/ome-ngff-readers-writers-aicsimage/lib/python3.10/site-packages/fsspec/asyn.py:106\u001b[0m, in \u001b[0;36msync\u001b[0;34m(loop, func, timeout, *args, **kwargs)\u001b[0m\n\u001b[1;32m    104\u001b[0m     \u001b[39mraise\u001b[39;00m FSTimeoutError \u001b[39mfrom\u001b[39;00m \u001b[39mreturn_result\u001b[39;00m\n\u001b[1;32m    105\u001b[0m \u001b[39melif\u001b[39;00m \u001b[39misinstance\u001b[39m(return_result, \u001b[39mBaseException\u001b[39;00m):\n\u001b[0;32m--> 106\u001b[0m     \u001b[39mraise\u001b[39;00m return_result\n\u001b[1;32m    107\u001b[0m \u001b[39melse\u001b[39;00m:\n\u001b[1;32m    108\u001b[0m     \u001b[39mreturn\u001b[39;00m return_result\n",
      "File \u001b[0;32m~/mambaforge/envs/ome-ngff-readers-writers-aicsimage/lib/python3.10/site-packages/fsspec/asyn.py:61\u001b[0m, in \u001b[0;36m_runner\u001b[0;34m(event, coro, result, timeout)\u001b[0m\n\u001b[1;32m     59\u001b[0m     coro \u001b[39m=\u001b[39m asyncio\u001b[39m.\u001b[39mwait_for(coro, timeout\u001b[39m=\u001b[39mtimeout)\n\u001b[1;32m     60\u001b[0m \u001b[39mtry\u001b[39;00m:\n\u001b[0;32m---> 61\u001b[0m     result[\u001b[39m0\u001b[39m] \u001b[39m=\u001b[39m \u001b[39mawait\u001b[39;00m coro\n\u001b[1;32m     62\u001b[0m \u001b[39mexcept\u001b[39;00m \u001b[39mException\u001b[39;00m \u001b[39mas\u001b[39;00m ex:\n\u001b[1;32m     63\u001b[0m     result[\u001b[39m0\u001b[39m] \u001b[39m=\u001b[39m ex\n",
      "File \u001b[0;32m~/mambaforge/envs/ome-ngff-readers-writers-aicsimage/lib/python3.10/site-packages/s3fs/core.py:1004\u001b[0m, in \u001b[0;36mS3FileSystem._exists\u001b[0;34m(self, path)\u001b[0m\n\u001b[1;32m   1001\u001b[0m     \u001b[39mreturn\u001b[39;00m exists_in_cache\n\u001b[1;32m   1003\u001b[0m \u001b[39mtry\u001b[39;00m:\n\u001b[0;32m-> 1004\u001b[0m     \u001b[39mawait\u001b[39;00m \u001b[39mself\u001b[39m\u001b[39m.\u001b[39m_info(path, bucket, key, version_id\u001b[39m=\u001b[39mversion_id)\n\u001b[1;32m   1005\u001b[0m     \u001b[39mreturn\u001b[39;00m \u001b[39mTrue\u001b[39;00m\n\u001b[1;32m   1006\u001b[0m \u001b[39mexcept\u001b[39;00m \u001b[39mFileNotFoundError\u001b[39;00m:\n",
      "File \u001b[0;32m~/mambaforge/envs/ome-ngff-readers-writers-aicsimage/lib/python3.10/site-packages/s3fs/core.py:1271\u001b[0m, in \u001b[0;36mS3FileSystem._info\u001b[0;34m(self, path, bucket, key, refresh, version_id)\u001b[0m\n\u001b[1;32m   1269\u001b[0m \u001b[39mif\u001b[39;00m key:\n\u001b[1;32m   1270\u001b[0m     \u001b[39mtry\u001b[39;00m:\n\u001b[0;32m-> 1271\u001b[0m         out \u001b[39m=\u001b[39m \u001b[39mawait\u001b[39;00m \u001b[39mself\u001b[39m\u001b[39m.\u001b[39m_call_s3(\n\u001b[1;32m   1272\u001b[0m             \u001b[39m\"\u001b[39m\u001b[39mhead_object\u001b[39m\u001b[39m\"\u001b[39m,\n\u001b[1;32m   1273\u001b[0m             \u001b[39mself\u001b[39m\u001b[39m.\u001b[39mkwargs,\n\u001b[1;32m   1274\u001b[0m             Bucket\u001b[39m=\u001b[39mbucket,\n\u001b[1;32m   1275\u001b[0m             Key\u001b[39m=\u001b[39mkey,\n\u001b[1;32m   1276\u001b[0m             \u001b[39m*\u001b[39m\u001b[39m*\u001b[39mversion_id_kw(version_id),\n\u001b[1;32m   1277\u001b[0m             \u001b[39m*\u001b[39m\u001b[39m*\u001b[39m\u001b[39mself\u001b[39m\u001b[39m.\u001b[39mreq_kw,\n\u001b[1;32m   1278\u001b[0m         )\n\u001b[1;32m   1279\u001b[0m         \u001b[39mreturn\u001b[39;00m {\n\u001b[1;32m   1280\u001b[0m             \u001b[39m\"\u001b[39m\u001b[39mETag\u001b[39m\u001b[39m\"\u001b[39m: out\u001b[39m.\u001b[39mget(\u001b[39m\"\u001b[39m\u001b[39mETag\u001b[39m\u001b[39m\"\u001b[39m, \u001b[39m\"\u001b[39m\u001b[39m\"\u001b[39m),\n\u001b[1;32m   1281\u001b[0m             \u001b[39m\"\u001b[39m\u001b[39mLastModified\u001b[39m\u001b[39m\"\u001b[39m: out[\u001b[39m\"\u001b[39m\u001b[39mLastModified\u001b[39m\u001b[39m\"\u001b[39m],\n\u001b[0;32m   (...)\u001b[0m\n\u001b[1;32m   1287\u001b[0m             \u001b[39m\"\u001b[39m\u001b[39mContentType\u001b[39m\u001b[39m\"\u001b[39m: out\u001b[39m.\u001b[39mget(\u001b[39m\"\u001b[39m\u001b[39mContentType\u001b[39m\u001b[39m\"\u001b[39m),\n\u001b[1;32m   1288\u001b[0m         }\n\u001b[1;32m   1289\u001b[0m     \u001b[39mexcept\u001b[39;00m \u001b[39mFileNotFoundError\u001b[39;00m:\n",
      "File \u001b[0;32m~/mambaforge/envs/ome-ngff-readers-writers-aicsimage/lib/python3.10/site-packages/s3fs/core.py:348\u001b[0m, in \u001b[0;36mS3FileSystem._call_s3\u001b[0;34m(self, method, *akwarglist, **kwargs)\u001b[0m\n\u001b[1;32m    346\u001b[0m logger\u001b[39m.\u001b[39mdebug(\u001b[39m\"\u001b[39m\u001b[39mCALL: \u001b[39m\u001b[39m%s\u001b[39;00m\u001b[39m - \u001b[39m\u001b[39m%s\u001b[39;00m\u001b[39m - \u001b[39m\u001b[39m%s\u001b[39;00m\u001b[39m\"\u001b[39m, method\u001b[39m.\u001b[39m\u001b[39m__name__\u001b[39m, akwarglist, kw2)\n\u001b[1;32m    347\u001b[0m additional_kwargs \u001b[39m=\u001b[39m \u001b[39mself\u001b[39m\u001b[39m.\u001b[39m_get_s3_method_kwargs(method, \u001b[39m*\u001b[39makwarglist, \u001b[39m*\u001b[39m\u001b[39m*\u001b[39mkwargs)\n\u001b[0;32m--> 348\u001b[0m \u001b[39mreturn\u001b[39;00m \u001b[39mawait\u001b[39;00m _error_wrapper(\n\u001b[1;32m    349\u001b[0m     method, kwargs\u001b[39m=\u001b[39madditional_kwargs, retries\u001b[39m=\u001b[39m\u001b[39mself\u001b[39m\u001b[39m.\u001b[39mretries\n\u001b[1;32m    350\u001b[0m )\n",
      "File \u001b[0;32m~/mambaforge/envs/ome-ngff-readers-writers-aicsimage/lib/python3.10/site-packages/s3fs/core.py:140\u001b[0m, in \u001b[0;36m_error_wrapper\u001b[0;34m(func, args, kwargs, retries)\u001b[0m\n\u001b[1;32m    138\u001b[0m         err \u001b[39m=\u001b[39m e\n\u001b[1;32m    139\u001b[0m err \u001b[39m=\u001b[39m translate_boto_error(err)\n\u001b[0;32m--> 140\u001b[0m \u001b[39mraise\u001b[39;00m err\n",
      "File \u001b[0;32m~/mambaforge/envs/ome-ngff-readers-writers-aicsimage/lib/python3.10/site-packages/s3fs/core.py:113\u001b[0m, in \u001b[0;36m_error_wrapper\u001b[0;34m(func, args, kwargs, retries)\u001b[0m\n\u001b[1;32m    111\u001b[0m \u001b[39mfor\u001b[39;00m i \u001b[39min\u001b[39;00m \u001b[39mrange\u001b[39m(retries):\n\u001b[1;32m    112\u001b[0m     \u001b[39mtry\u001b[39;00m:\n\u001b[0;32m--> 113\u001b[0m         \u001b[39mreturn\u001b[39;00m \u001b[39mawait\u001b[39;00m func(\u001b[39m*\u001b[39margs, \u001b[39m*\u001b[39m\u001b[39m*\u001b[39mkwargs)\n\u001b[1;32m    114\u001b[0m     \u001b[39mexcept\u001b[39;00m S3_RETRYABLE_ERRORS \u001b[39mas\u001b[39;00m e:\n\u001b[1;32m    115\u001b[0m         err \u001b[39m=\u001b[39m e\n",
      "File \u001b[0;32m~/mambaforge/envs/ome-ngff-readers-writers-aicsimage/lib/python3.10/site-packages/aiobotocore/client.py:366\u001b[0m, in \u001b[0;36mAioBaseClient._make_api_call\u001b[0;34m(self, operation_name, api_params)\u001b[0m\n\u001b[1;32m    362\u001b[0m     maybe_compress_request(\n\u001b[1;32m    363\u001b[0m         \u001b[39mself\u001b[39m\u001b[39m.\u001b[39mmeta\u001b[39m.\u001b[39mconfig, request_dict, operation_model\n\u001b[1;32m    364\u001b[0m     )\n\u001b[1;32m    365\u001b[0m     apply_request_checksum(request_dict)\n\u001b[0;32m--> 366\u001b[0m     http, parsed_response \u001b[39m=\u001b[39m \u001b[39mawait\u001b[39;00m \u001b[39mself\u001b[39m\u001b[39m.\u001b[39m_make_request(\n\u001b[1;32m    367\u001b[0m         operation_model, request_dict, request_context\n\u001b[1;32m    368\u001b[0m     )\n\u001b[1;32m    370\u001b[0m \u001b[39mawait\u001b[39;00m \u001b[39mself\u001b[39m\u001b[39m.\u001b[39mmeta\u001b[39m.\u001b[39mevents\u001b[39m.\u001b[39memit(\n\u001b[1;32m    371\u001b[0m     \u001b[39m'\u001b[39m\u001b[39mafter-call.\u001b[39m\u001b[39m{service_id}\u001b[39;00m\u001b[39m.\u001b[39m\u001b[39m{operation_name}\u001b[39;00m\u001b[39m'\u001b[39m\u001b[39m.\u001b[39mformat(\n\u001b[1;32m    372\u001b[0m         service_id\u001b[39m=\u001b[39mservice_id, operation_name\u001b[39m=\u001b[39moperation_name\n\u001b[0;32m   (...)\u001b[0m\n\u001b[1;32m    377\u001b[0m     context\u001b[39m=\u001b[39mrequest_context,\n\u001b[1;32m    378\u001b[0m )\n\u001b[1;32m    380\u001b[0m \u001b[39mif\u001b[39;00m http\u001b[39m.\u001b[39mstatus_code \u001b[39m>\u001b[39m\u001b[39m=\u001b[39m \u001b[39m300\u001b[39m:\n",
      "File \u001b[0;32m~/mambaforge/envs/ome-ngff-readers-writers-aicsimage/lib/python3.10/site-packages/aiobotocore/client.py:391\u001b[0m, in \u001b[0;36mAioBaseClient._make_request\u001b[0;34m(self, operation_model, request_dict, request_context)\u001b[0m\n\u001b[1;32m    387\u001b[0m \u001b[39masync\u001b[39;00m \u001b[39mdef\u001b[39;00m \u001b[39m_make_request\u001b[39m(\n\u001b[1;32m    388\u001b[0m     \u001b[39mself\u001b[39m, operation_model, request_dict, request_context\n\u001b[1;32m    389\u001b[0m ):\n\u001b[1;32m    390\u001b[0m     \u001b[39mtry\u001b[39;00m:\n\u001b[0;32m--> 391\u001b[0m         \u001b[39mreturn\u001b[39;00m \u001b[39mawait\u001b[39;00m \u001b[39mself\u001b[39m\u001b[39m.\u001b[39m_endpoint\u001b[39m.\u001b[39mmake_request(\n\u001b[1;32m    392\u001b[0m             operation_model, request_dict\n\u001b[1;32m    393\u001b[0m         )\n\u001b[1;32m    394\u001b[0m     \u001b[39mexcept\u001b[39;00m \u001b[39mException\u001b[39;00m \u001b[39mas\u001b[39;00m e:\n\u001b[1;32m    395\u001b[0m         \u001b[39mawait\u001b[39;00m \u001b[39mself\u001b[39m\u001b[39m.\u001b[39mmeta\u001b[39m.\u001b[39mevents\u001b[39m.\u001b[39memit(\n\u001b[1;32m    396\u001b[0m             \u001b[39m'\u001b[39m\u001b[39mafter-call-error.\u001b[39m\u001b[39m{service_id}\u001b[39;00m\u001b[39m.\u001b[39m\u001b[39m{operation_name}\u001b[39;00m\u001b[39m'\u001b[39m\u001b[39m.\u001b[39mformat(\n\u001b[1;32m    397\u001b[0m                 service_id\u001b[39m=\u001b[39m\u001b[39mself\u001b[39m\u001b[39m.\u001b[39m_service_model\u001b[39m.\u001b[39mservice_id\u001b[39m.\u001b[39mhyphenize(),\n\u001b[0;32m   (...)\u001b[0m\n\u001b[1;32m    401\u001b[0m             context\u001b[39m=\u001b[39mrequest_context,\n\u001b[1;32m    402\u001b[0m         )\n",
      "File \u001b[0;32m~/mambaforge/envs/ome-ngff-readers-writers-aicsimage/lib/python3.10/site-packages/aiobotocore/endpoint.py:96\u001b[0m, in \u001b[0;36mAioEndpoint._send_request\u001b[0;34m(self, request_dict, operation_model)\u001b[0m\n\u001b[1;32m     94\u001b[0m context \u001b[39m=\u001b[39m request_dict[\u001b[39m'\u001b[39m\u001b[39mcontext\u001b[39m\u001b[39m'\u001b[39m]\n\u001b[1;32m     95\u001b[0m \u001b[39mself\u001b[39m\u001b[39m.\u001b[39m_update_retries_context(context, attempts)\n\u001b[0;32m---> 96\u001b[0m request \u001b[39m=\u001b[39m \u001b[39mawait\u001b[39;00m \u001b[39mself\u001b[39m\u001b[39m.\u001b[39mcreate_request(request_dict, operation_model)\n\u001b[1;32m     97\u001b[0m success_response, exception \u001b[39m=\u001b[39m \u001b[39mawait\u001b[39;00m \u001b[39mself\u001b[39m\u001b[39m.\u001b[39m_get_response(\n\u001b[1;32m     98\u001b[0m     request, operation_model, context\n\u001b[1;32m     99\u001b[0m )\n\u001b[1;32m    100\u001b[0m \u001b[39mwhile\u001b[39;00m \u001b[39mawait\u001b[39;00m \u001b[39mself\u001b[39m\u001b[39m.\u001b[39m_needs_retry(\n\u001b[1;32m    101\u001b[0m     attempts,\n\u001b[1;32m    102\u001b[0m     operation_model,\n\u001b[0;32m   (...)\u001b[0m\n\u001b[1;32m    105\u001b[0m     exception,\n\u001b[1;32m    106\u001b[0m ):\n",
      "File \u001b[0;32m~/mambaforge/envs/ome-ngff-readers-writers-aicsimage/lib/python3.10/site-packages/aiobotocore/endpoint.py:84\u001b[0m, in \u001b[0;36mAioEndpoint.create_request\u001b[0;34m(self, params, operation_model)\u001b[0m\n\u001b[1;32m     80\u001b[0m     service_id \u001b[39m=\u001b[39m operation_model\u001b[39m.\u001b[39mservice_model\u001b[39m.\u001b[39mservice_id\u001b[39m.\u001b[39mhyphenize()\n\u001b[1;32m     81\u001b[0m     event_name \u001b[39m=\u001b[39m \u001b[39m'\u001b[39m\u001b[39mrequest-created.\u001b[39m\u001b[39m{service_id}\u001b[39;00m\u001b[39m.\u001b[39m\u001b[39m{op_name}\u001b[39;00m\u001b[39m'\u001b[39m\u001b[39m.\u001b[39mformat(\n\u001b[1;32m     82\u001b[0m         service_id\u001b[39m=\u001b[39mservice_id, op_name\u001b[39m=\u001b[39moperation_model\u001b[39m.\u001b[39mname\n\u001b[1;32m     83\u001b[0m     )\n\u001b[0;32m---> 84\u001b[0m     \u001b[39mawait\u001b[39;00m \u001b[39mself\u001b[39m\u001b[39m.\u001b[39m_event_emitter\u001b[39m.\u001b[39memit(\n\u001b[1;32m     85\u001b[0m         event_name,\n\u001b[1;32m     86\u001b[0m         request\u001b[39m=\u001b[39mrequest,\n\u001b[1;32m     87\u001b[0m         operation_name\u001b[39m=\u001b[39moperation_model\u001b[39m.\u001b[39mname,\n\u001b[1;32m     88\u001b[0m     )\n\u001b[1;32m     89\u001b[0m prepared_request \u001b[39m=\u001b[39m \u001b[39mself\u001b[39m\u001b[39m.\u001b[39mprepare_request(request)\n\u001b[1;32m     90\u001b[0m \u001b[39mreturn\u001b[39;00m prepared_request\n",
      "File \u001b[0;32m~/mambaforge/envs/ome-ngff-readers-writers-aicsimage/lib/python3.10/site-packages/aiobotocore/hooks.py:66\u001b[0m, in \u001b[0;36mAioHierarchicalEmitter._emit\u001b[0;34m(self, event_name, kwargs, stop_on_response)\u001b[0m\n\u001b[1;32m     63\u001b[0m logger\u001b[39m.\u001b[39mdebug(\u001b[39m'\u001b[39m\u001b[39mEvent \u001b[39m\u001b[39m%s\u001b[39;00m\u001b[39m: calling handler \u001b[39m\u001b[39m%s\u001b[39;00m\u001b[39m'\u001b[39m, event_name, handler)\n\u001b[1;32m     65\u001b[0m \u001b[39m# Await the handler if its a coroutine.\u001b[39;00m\n\u001b[0;32m---> 66\u001b[0m response \u001b[39m=\u001b[39m \u001b[39mawait\u001b[39;00m resolve_awaitable(handler(\u001b[39m*\u001b[39m\u001b[39m*\u001b[39mkwargs))\n\u001b[1;32m     67\u001b[0m responses\u001b[39m.\u001b[39mappend((handler, response))\n\u001b[1;32m     68\u001b[0m \u001b[39mif\u001b[39;00m stop_on_response \u001b[39mand\u001b[39;00m response \u001b[39mis\u001b[39;00m \u001b[39mnot\u001b[39;00m \u001b[39mNone\u001b[39;00m:\n",
      "File \u001b[0;32m~/mambaforge/envs/ome-ngff-readers-writers-aicsimage/lib/python3.10/site-packages/aiobotocore/_helpers.py:15\u001b[0m, in \u001b[0;36mresolve_awaitable\u001b[0;34m(obj)\u001b[0m\n\u001b[1;32m     13\u001b[0m \u001b[39masync\u001b[39;00m \u001b[39mdef\u001b[39;00m \u001b[39mresolve_awaitable\u001b[39m(obj):\n\u001b[1;32m     14\u001b[0m     \u001b[39mif\u001b[39;00m inspect\u001b[39m.\u001b[39misawaitable(obj):\n\u001b[0;32m---> 15\u001b[0m         \u001b[39mreturn\u001b[39;00m \u001b[39mawait\u001b[39;00m obj\n\u001b[1;32m     17\u001b[0m     \u001b[39mreturn\u001b[39;00m obj\n",
      "File \u001b[0;32m~/mambaforge/envs/ome-ngff-readers-writers-aicsimage/lib/python3.10/site-packages/aiobotocore/signers.py:24\u001b[0m, in \u001b[0;36mAioRequestSigner.handler\u001b[0;34m(self, operation_name, request, **kwargs)\u001b[0m\n\u001b[1;32m     19\u001b[0m \u001b[39masync\u001b[39;00m \u001b[39mdef\u001b[39;00m \u001b[39mhandler\u001b[39m(\u001b[39mself\u001b[39m, operation_name\u001b[39m=\u001b[39m\u001b[39mNone\u001b[39;00m, request\u001b[39m=\u001b[39m\u001b[39mNone\u001b[39;00m, \u001b[39m*\u001b[39m\u001b[39m*\u001b[39mkwargs):\n\u001b[1;32m     20\u001b[0m     \u001b[39m# This is typically hooked up to the \"request-created\" event\u001b[39;00m\n\u001b[1;32m     21\u001b[0m     \u001b[39m# from a client's event emitter.  When a new request is created\u001b[39;00m\n\u001b[1;32m     22\u001b[0m     \u001b[39m# this method is invoked to sign the request.\u001b[39;00m\n\u001b[1;32m     23\u001b[0m     \u001b[39m# Don't call this method directly.\u001b[39;00m\n\u001b[0;32m---> 24\u001b[0m     \u001b[39mreturn\u001b[39;00m \u001b[39mawait\u001b[39;00m \u001b[39mself\u001b[39m\u001b[39m.\u001b[39msign(operation_name, request)\n",
      "File \u001b[0;32m~/mambaforge/envs/ome-ngff-readers-writers-aicsimage/lib/python3.10/site-packages/aiobotocore/signers.py:82\u001b[0m, in \u001b[0;36mAioRequestSigner.sign\u001b[0;34m(self, operation_name, request, region_name, signing_type, expires_in, signing_name)\u001b[0m\n\u001b[1;32m     79\u001b[0m     \u001b[39melse\u001b[39;00m:\n\u001b[1;32m     80\u001b[0m         \u001b[39mraise\u001b[39;00m e\n\u001b[0;32m---> 82\u001b[0m auth\u001b[39m.\u001b[39;49madd_auth(request)\n",
      "File \u001b[0;32m~/mambaforge/envs/ome-ngff-readers-writers-aicsimage/lib/python3.10/site-packages/botocore/auth.py:418\u001b[0m, in \u001b[0;36mSigV4Auth.add_auth\u001b[0;34m(self, request)\u001b[0m\n\u001b[1;32m    416\u001b[0m \u001b[39mdef\u001b[39;00m \u001b[39madd_auth\u001b[39m(\u001b[39mself\u001b[39m, request):\n\u001b[1;32m    417\u001b[0m     \u001b[39mif\u001b[39;00m \u001b[39mself\u001b[39m\u001b[39m.\u001b[39mcredentials \u001b[39mis\u001b[39;00m \u001b[39mNone\u001b[39;00m:\n\u001b[0;32m--> 418\u001b[0m         \u001b[39mraise\u001b[39;00m NoCredentialsError()\n\u001b[1;32m    419\u001b[0m     datetime_now \u001b[39m=\u001b[39m datetime\u001b[39m.\u001b[39mdatetime\u001b[39m.\u001b[39mutcnow()\n\u001b[1;32m    420\u001b[0m     request\u001b[39m.\u001b[39mcontext[\u001b[39m'\u001b[39m\u001b[39mtimestamp\u001b[39m\u001b[39m'\u001b[39m] \u001b[39m=\u001b[39m datetime_now\u001b[39m.\u001b[39mstrftime(SIGV4_TIMESTAMP)\n",
      "\u001b[0;31mNoCredentialsError\u001b[0m: Unable to locate credentials"
     ]
    }
   ],
   "source": [
    "# Read from IDR S3\n",
    "\n",
    "filepath = \"s3://uk1s3.embassy.ebi.ac.uk/idr/zarr/v0.4/idr0101A/13457539.zarr\"\n",
    "\n",
    "aim = AICSImage(filepath) # fails with no credentials error"
   ]
  },
  {
   "cell_type": "code",
   "execution_count": 4,
   "metadata": {},
   "outputs": [],
   "source": [
    "# Read from local fs\n",
    "\n",
    "filepath = \"../data/idr0101\"\n",
    "\n",
    "aim = AICSImage(filepath)"
   ]
  },
  {
   "cell_type": "code",
   "execution_count": 5,
   "metadata": {},
   "outputs": [
    {
     "name": "stdout",
     "output_type": "stream",
     "text": [
      "(18, 6, 11, 189, 190)\n"
     ]
    }
   ],
   "source": [
    "# get image data as numpy array\n",
    "\n",
    "im_np = aim.get_image_data()\n",
    "print(im_np.shape)\n"
   ]
  },
  {
   "cell_type": "code",
   "execution_count": 6,
   "metadata": {},
   "outputs": [
    {
     "name": "stdout",
     "output_type": "stream",
     "text": [
      "(1, 18, 6, 11, 189, 190)\n"
     ]
    }
   ],
   "source": [
    "# get image data as dask array\n",
    "\n",
    "im_da = aim.get_dask_stack()\n",
    "print(im_da.shape)\n"
   ]
  },
  {
   "cell_type": "code",
   "execution_count": 7,
   "metadata": {},
   "outputs": [
    {
     "name": "stdout",
     "output_type": "stream",
     "text": [
      "(1, 18, 6, 11, 189, 190)\n"
     ]
    }
   ],
   "source": [
    "# get image data as xarray.DataArray\n",
    "\n",
    "im_xr = aim.get_xarray_stack()\n",
    "print(im_xr.shape)\n"
   ]
  },
  {
   "cell_type": "code",
   "execution_count": 8,
   "metadata": {},
   "outputs": [
    {
     "name": "stdout",
     "output_type": "stream",
     "text": [
      "\u001b[0;31mInit signature:\u001b[0m\n",
      "\u001b[0mAICSImage\u001b[0m\u001b[0;34m(\u001b[0m\u001b[0;34m\u001b[0m\n",
      "\u001b[0;34m\u001b[0m    \u001b[0mimage\u001b[0m\u001b[0;34m:\u001b[0m \u001b[0mUnion\u001b[0m\u001b[0;34m[\u001b[0m\u001b[0mstr\u001b[0m\u001b[0;34m,\u001b[0m \u001b[0mpathlib\u001b[0m\u001b[0;34m.\u001b[0m\u001b[0mPath\u001b[0m\u001b[0;34m,\u001b[0m \u001b[0mnumpy\u001b[0m\u001b[0;34m.\u001b[0m\u001b[0mndarray\u001b[0m\u001b[0;34m,\u001b[0m \u001b[0mdask\u001b[0m\u001b[0;34m.\u001b[0m\u001b[0marray\u001b[0m\u001b[0;34m.\u001b[0m\u001b[0mcore\u001b[0m\u001b[0;34m.\u001b[0m\u001b[0mArray\u001b[0m\u001b[0;34m,\u001b[0m \u001b[0mxarray\u001b[0m\u001b[0;34m.\u001b[0m\u001b[0mcore\u001b[0m\u001b[0;34m.\u001b[0m\u001b[0mdataarray\u001b[0m\u001b[0;34m.\u001b[0m\u001b[0mDataArray\u001b[0m\u001b[0;34m,\u001b[0m \u001b[0mList\u001b[0m\u001b[0;34m[\u001b[0m\u001b[0mUnion\u001b[0m\u001b[0;34m[\u001b[0m\u001b[0mnumpy\u001b[0m\u001b[0;34m.\u001b[0m\u001b[0mndarray\u001b[0m\u001b[0;34m,\u001b[0m \u001b[0mdask\u001b[0m\u001b[0;34m.\u001b[0m\u001b[0marray\u001b[0m\u001b[0;34m.\u001b[0m\u001b[0mcore\u001b[0m\u001b[0;34m.\u001b[0m\u001b[0mArray\u001b[0m\u001b[0;34m,\u001b[0m \u001b[0mxarray\u001b[0m\u001b[0;34m.\u001b[0m\u001b[0mcore\u001b[0m\u001b[0;34m.\u001b[0m\u001b[0mdataarray\u001b[0m\u001b[0;34m.\u001b[0m\u001b[0mDataArray\u001b[0m\u001b[0;34m]\u001b[0m\u001b[0;34m]\u001b[0m\u001b[0;34m,\u001b[0m \u001b[0mList\u001b[0m\u001b[0;34m[\u001b[0m\u001b[0mUnion\u001b[0m\u001b[0;34m[\u001b[0m\u001b[0mstr\u001b[0m\u001b[0;34m,\u001b[0m \u001b[0mpathlib\u001b[0m\u001b[0;34m.\u001b[0m\u001b[0mPath\u001b[0m\u001b[0;34m]\u001b[0m\u001b[0;34m]\u001b[0m\u001b[0;34m]\u001b[0m\u001b[0;34m,\u001b[0m\u001b[0;34m\u001b[0m\n",
      "\u001b[0;34m\u001b[0m    \u001b[0mreader\u001b[0m\u001b[0;34m:\u001b[0m \u001b[0mOptional\u001b[0m\u001b[0;34m[\u001b[0m\u001b[0mType\u001b[0m\u001b[0;34m[\u001b[0m\u001b[0maicsimageio\u001b[0m\u001b[0;34m.\u001b[0m\u001b[0mreaders\u001b[0m\u001b[0;34m.\u001b[0m\u001b[0mreader\u001b[0m\u001b[0;34m.\u001b[0m\u001b[0mReader\u001b[0m\u001b[0;34m]\u001b[0m\u001b[0;34m]\u001b[0m \u001b[0;34m=\u001b[0m \u001b[0;32mNone\u001b[0m\u001b[0;34m,\u001b[0m\u001b[0;34m\u001b[0m\n",
      "\u001b[0;34m\u001b[0m    \u001b[0mreconstruct_mosaic\u001b[0m\u001b[0;34m:\u001b[0m \u001b[0mbool\u001b[0m \u001b[0;34m=\u001b[0m \u001b[0;32mTrue\u001b[0m\u001b[0;34m,\u001b[0m\u001b[0;34m\u001b[0m\n",
      "\u001b[0;34m\u001b[0m    \u001b[0mfs_kwargs\u001b[0m\u001b[0;34m:\u001b[0m \u001b[0mDict\u001b[0m\u001b[0;34m[\u001b[0m\u001b[0mstr\u001b[0m\u001b[0;34m,\u001b[0m \u001b[0mAny\u001b[0m\u001b[0;34m]\u001b[0m \u001b[0;34m=\u001b[0m \u001b[0;34m{\u001b[0m\u001b[0;34m}\u001b[0m\u001b[0;34m,\u001b[0m\u001b[0;34m\u001b[0m\n",
      "\u001b[0;34m\u001b[0m    \u001b[0;34m**\u001b[0m\u001b[0mkwargs\u001b[0m\u001b[0;34m:\u001b[0m \u001b[0mAny\u001b[0m\u001b[0;34m,\u001b[0m\u001b[0;34m\u001b[0m\n",
      "\u001b[0;34m\u001b[0m\u001b[0;34m)\u001b[0m\u001b[0;34m\u001b[0m\u001b[0;34m\u001b[0m\u001b[0m\n",
      "\u001b[0;31mDocstring:\u001b[0m     \n",
      "AICSImage takes microscopy image data types (files or arrays) of varying\n",
      "dimensions (\"ZYX\", \"TCZYX\", \"CYX\") and reads them as consistent 5D \"TCZYX\"\n",
      "(\"Time-Channel-Z-Y-X\") ordered array(s). The data and metadata are lazy\n",
      "loaded and can be accessed as needed.\n",
      "\n",
      "Parameters\n",
      "----------\n",
      "image: types.ImageLike\n",
      "    A string, Path, fsspec supported URI, or arraylike to read.\n",
      "reader: Optional[Type[Reader]]\n",
      "    The Reader class to specifically use for reading the provided image.\n",
      "    Default: None (find matching reader)\n",
      "reconstruct_mosaic: bool\n",
      "    Boolean for setting that data for this object to the reconstructed / stitched\n",
      "    mosaic image.\n",
      "    Default: True (reconstruct the mosaic image from tiles)\n",
      "    Notes: If True and image is a mosaic, data will be fully reconstructed and\n",
      "    stitched array.\n",
      "    If True and base reader doesn't support tile stitching, data won't be stitched\n",
      "    and instead will have an `M` dimension for tiles.\n",
      "    If False and image is a mosaic, data won't be stitched and instead will have an\n",
      "    `M` dimension for tiles.\n",
      "    If image is not a mosaic, data won't be stitched or have an `M` dimension for\n",
      "    tiles.\n",
      "fs_kwargs: Dict[str, Any]\n",
      "    Any specific keyword arguments to pass down to the fsspec created filesystem.\n",
      "    Default: {}\n",
      "kwargs: Any\n",
      "    Extra keyword arguments that will be passed down to the reader subclass.\n",
      "\n",
      "Examples\n",
      "--------\n",
      "Initialize an image then read the file and return specified slices as a numpy\n",
      "array.\n",
      "\n",
      ">>> img = AICSImage(\"my_file.tiff\")\n",
      "... zstack_t8 = img.get_image_data(\"ZYX\", T=8, C=0)\n",
      "\n",
      "Initialize an image, construct a delayed dask array for certain slices, then\n",
      "read only the specified chunk of data.\n",
      "\n",
      ">>> img = AICSImage(\"my_file.czi\")\n",
      "... zstack_t8 = img.get_image_dask_data(\"ZYX\", T=8, C=0)\n",
      "... zstack_t8_data = zstack_t8.compute()\n",
      "\n",
      "Initialize an image with a dask or numpy array.\n",
      "\n",
      ">>> data = np.random.rand(100, 100)\n",
      "... img = AICSImage(data)\n",
      "\n",
      "Initialize an image from S3 with s3fs.\n",
      "\n",
      ">>> img = AICSImage(\"s3://my_bucket/my_file.tiff\")\n",
      "\n",
      "Initialize an image and pass arguments to the reader using kwargs.\n",
      "\n",
      ">>> img = AICSImage(\"my_file.czi\", chunk_dims=[\"T\", \"Y\", \"X\"])\n",
      "\n",
      "Initialize an image, change scene, read data to numpy.\n",
      "\n",
      ">>> img = AICSImage(\"my_many_scene.czi\")\n",
      "... img.set_scene(\"Image:3\")\n",
      "... img.data\n",
      "\n",
      "Initialize an image with a specific reader. This is useful if you know the file\n",
      "type in advance or would like to skip a few of the file format checks we do\n",
      "internally. Useful when reading from remote sources to reduce network round trips.\n",
      "\n",
      ">>> img = AICSImage(\"malformed_metadata.ome.tiff\", reader=readers.TiffReader)\n",
      "\n",
      "Data for a mosaic file is returned pre-stitched (if the base reader supports it).\n",
      "\n",
      ">>> img = AICSImage(\"big_mosaic.czi\")\n",
      "... img.dims  # <Dimensions [T: 40, C: 3, Z: 1, Y: 30000, X: 45000]>\n",
      "\n",
      "Data for mosaic file can be explicitly returned as tiles.\n",
      "This is the same data as a reconstructed mosaic except that the tiles are\n",
      "stored in their own dimension (M).\n",
      "\n",
      ">>> img = AICSImage(\"big_mosaic.czi\", reconstruct_mosaic=False)\n",
      "... img.dims  # <Dimensions [M: 150, T: 40, C: 3, Z: 1, Y: 200, X: 300]>\n",
      "\n",
      "Data is mosaic file but reader doesn't support tile stitching.\n",
      "\n",
      ">>> img = AICSImage(\"unsupported_mosaic.ext\")\n",
      "... img.dims  # <Dimensions [M: 100, T: 1, C: 2, Z: 1, Y: 400, X: 400]>\n",
      "\n",
      "Notes\n",
      "-----\n",
      "If your image is made up of mosaic tiles, data and dimension information returned\n",
      "from this object will be from the tiles already stitched together.\n",
      "\n",
      "If you do not want the image pre-stitched together, you can use the base reader\n",
      "by either instantiating the reader independently or using the `.reader` property.\n",
      "\u001b[0;31mFile:\u001b[0m           ~/mambaforge/envs/ome-ngff-readers-writers-aicsimage/lib/python3.10/site-packages/aicsimageio/aics_image.py\n",
      "\u001b[0;31mType:\u001b[0m           ABCMeta\n",
      "\u001b[0;31mSubclasses:\u001b[0m     "
     ]
    }
   ],
   "source": [
    "# metadata encoding\n",
    "\n",
    "AICSImage?"
   ]
  },
  {
   "cell_type": "markdown",
   "metadata": {},
   "source": [
    "# Writing"
   ]
  },
  {
   "cell_type": "code",
   "execution_count": 9,
   "metadata": {},
   "outputs": [
    {
     "name": "stdout",
     "output_type": "stream",
     "text": [
      "(18, 6, 11, 189, 190)\n",
      "(18, 6, 11, 189, 190)\n",
      "(18, 6, 11, 189, 190)\n"
     ]
    }
   ],
   "source": [
    "import dask\n",
    "import xarray\n",
    "\n",
    "for im_data in [im_np, im_da, im_xr]:\n",
    "\n",
    "    if isinstance(im_data, dask.array.Array) or\\\n",
    "        isinstance(im_data, xarray.DataArray):\n",
    "        im_data_to_write = im_data.squeeze()\n",
    "    else:\n",
    "        im_data_to_write = im_data\n",
    "\n",
    "    aim = AICSImage(im_data_to_write)\n",
    "    print(aim.shape)\n",
    "    aim.save('written.zarr')\n"
   ]
  }
 ],
 "metadata": {
  "kernelspec": {
   "display_name": "ome-ngff-readers-writers-aicsimage",
   "language": "python",
   "name": "python3"
  },
  "language_info": {
   "codemirror_mode": {
    "name": "ipython",
    "version": 3
   },
   "file_extension": ".py",
   "mimetype": "text/x-python",
   "name": "python",
   "nbconvert_exporter": "python",
   "pygments_lexer": "ipython3",
   "version": "3.10.13"
  }
 },
 "nbformat": 4,
 "nbformat_minor": 2
}
